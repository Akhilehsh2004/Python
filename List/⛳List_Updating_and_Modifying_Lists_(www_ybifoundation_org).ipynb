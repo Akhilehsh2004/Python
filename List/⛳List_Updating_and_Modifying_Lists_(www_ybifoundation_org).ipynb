{
  "nbformat": 4,
  "nbformat_minor": 0,
  "metadata": {
    "colab": {
      "provenance": []
    },
    "kernelspec": {
      "name": "python3",
      "display_name": "Python 3"
    },
    "language_info": {
      "name": "python"
    }
  },
  "cells": [
    {
      "cell_type": "markdown",
      "source": [
        "**Ybi Foundation** (www.ybifoundation.org)"
      ],
      "metadata": {
        "id": "-rje6eHm4Eqr"
      }
    },
    {
      "cell_type": "markdown",
      "source": [
        "**[Click to Join Live Doubt Class](https://www.ybifoundation.org/session/live-doubt-resolution-session#/home)** (https://bit.ly/doubt-support)"
      ],
      "metadata": {
        "id": "LcO9pAXfSjYW"
      }
    },
    {
      "cell_type": "markdown",
      "source": [
        "# **Updating and Modifying Lists**"
      ],
      "metadata": {
        "id": "cEKJFVnHeA7u"
      }
    },
    {
      "cell_type": "code",
      "source": [
        "# Create list\n",
        "cities = [\"Mumbai\", \"Delhi\", \"Bangalore\"]"
      ],
      "metadata": {
        "id": "KBMS1jjHeDbh"
      },
      "execution_count": 2,
      "outputs": []
    },
    {
      "cell_type": "code",
      "source": [
        "# Changing the second element\n",
        "cities[1] = \"Kolkata\"  # cities is now [\"Mumbai\", \"Kolkata\", \"Bangalore\"]"
      ],
      "metadata": {
        "id": "z6UwhU0MeGs6"
      },
      "execution_count": 3,
      "outputs": []
    },
    {
      "cell_type": "code",
      "source": [
        "# Adding an element to the end\n",
        "cities.append(\"Chennai\")  # cities is now [\"Mumbai\", \"Kolkata\", \"Bangalore\", \"Chennai\"]"
      ],
      "metadata": {
        "id": "sITWdaqfeIDW",
        "outputId": "7e072fa8-9aea-43fe-ce25-b888f8be6e56",
        "colab": {
          "base_uri": "https://localhost:8080/",
          "height": 162
        }
      },
      "execution_count": 1,
      "outputs": [
        {
          "output_type": "error",
          "ename": "NameError",
          "evalue": "name 'cities' is not defined",
          "traceback": [
            "\u001b[0;31m---------------------------------------------------------------------------\u001b[0m",
            "\u001b[0;31mNameError\u001b[0m                                 Traceback (most recent call last)",
            "\u001b[0;32m<ipython-input-1-da42402fcb13>\u001b[0m in \u001b[0;36m<cell line: 0>\u001b[0;34m()\u001b[0m\n\u001b[1;32m      1\u001b[0m \u001b[0;31m# Adding an element to the end\u001b[0m\u001b[0;34m\u001b[0m\u001b[0;34m\u001b[0m\u001b[0m\n\u001b[0;32m----> 2\u001b[0;31m \u001b[0mcities\u001b[0m\u001b[0;34m.\u001b[0m\u001b[0mappend\u001b[0m\u001b[0;34m(\u001b[0m\u001b[0;34m\"Chennai\"\u001b[0m\u001b[0;34m)\u001b[0m  \u001b[0;31m# cities is now [\"Mumbai\", \"Kolkata\", \"Bangalore\", \"Chennai\"]\u001b[0m\u001b[0;34m\u001b[0m\u001b[0;34m\u001b[0m\u001b[0m\n\u001b[0m",
            "\u001b[0;31mNameError\u001b[0m: name 'cities' is not defined"
          ]
        }
      ]
    },
    {
      "cell_type": "code",
      "source": [
        "# Inserting an element at a specific index\n",
        "cities.insert(1, \"Hyderabad\")  # cities is now [\"Mumbai\", \"Hyderabad\", \"Kolkata\", \"Bangalore\", \"Chennai\"]"
      ],
      "metadata": {
        "id": "_CmgbF-ueIHO"
      },
      "execution_count": 5,
      "outputs": []
    },
    {
      "cell_type": "code",
      "source": [
        "# Removing an element by value\n",
        "cities.remove(\"Kolkata\")  # cities is now [\"Mumbai\", \"Hyderabad\", \"Bangalore\", \"Chennai\"]"
      ],
      "metadata": {
        "id": "Aggh56JkePH8"
      },
      "execution_count": 4,
      "outputs": []
    },
    {
      "cell_type": "code",
      "source": [
        "# Removing an element by index\n",
        "cities.pop(2)  # cities is now [\"Mumbai\", \"Hyderabad\", \"Chennai\"]"
      ],
      "metadata": {
        "colab": {
          "base_uri": "https://localhost:8080/",
          "height": 36
        },
        "id": "KsSweBMVeRxt",
        "outputId": "47734f08-8314-44f9-8af9-526e2537efde"
      },
      "execution_count": 6,
      "outputs": [
        {
          "output_type": "execute_result",
          "data": {
            "text/plain": [
              "'Bangalore'"
            ],
            "application/vnd.google.colaboratory.intrinsic+json": {
              "type": "string"
            }
          },
          "metadata": {},
          "execution_count": 6
        }
      ]
    },
    {
      "cell_type": "code",
      "source": [
        "# Removing the first two elements using del\n",
        "del cities[:2]  # cities is now [\"Chennai\"]"
      ],
      "metadata": {
        "id": "iack7Ictv_h2"
      },
      "execution_count": null,
      "outputs": []
    },
    {
      "cell_type": "markdown",
      "source": [
        "# **🦉Practice Problem**"
      ],
      "metadata": {
        "id": "bosZhjFlWTPg"
      }
    },
    {
      "cell_type": "markdown",
      "source": [
        "## **Practice Problem 1: Update a List of Cities**\n",
        "\n",
        "You are given a list of Indian cities:\n",
        "\n",
        "```cities = [\"Delhi\", \"Mumbai\", \"Kolkata\", \"Chennai\", \"Bangalore\"]```\n",
        "\n",
        "Task:\n",
        "\n",
        "- Replace \"Chennai\" with \"Hyderabad\".\n",
        "- Add \"Pune\" to the end of the list.\n",
        "- Insert \"Ahmedabad\" at the 2nd position."
      ],
      "metadata": {
        "id": "ei-uvnW_mavi"
      }
    },
    {
      "cell_type": "code",
      "source": [
        "cities = [\"Delhi\", \"Mumbai\", \"Kolkata\", \"Chennai\", \"Bangalore\"]\n",
        "\n",
        "# Replace \"Chennai\" with \"Hyderabad\"\n",
        "cities[3] = \"Hyderabad\"\n",
        "\n",
        "# Add \"Pune\" to the end\n",
        "cities.append(\"Pune\")\n",
        "\n",
        "# Insert \"Ahmedabad\" at the 2nd position\n",
        "cities.insert(1, \"Ahmedabad\")\n",
        "\n",
        "print(\"Updated List of Cities:\", cities)"
      ],
      "metadata": {
        "id": "cAskGh9GDDq_",
        "colab": {
          "base_uri": "https://localhost:8080/"
        },
        "outputId": "4f3918b3-3f01-4c8c-eb0d-02bceb72ceab"
      },
      "execution_count": null,
      "outputs": [
        {
          "output_type": "stream",
          "name": "stdout",
          "text": [
            "Updated List of Cities: ['Delhi', 'Ahmedabad', 'Mumbai', 'Kolkata', 'Hyderabad', 'Bangalore', 'Pune']\n"
          ]
        }
      ]
    },
    {
      "cell_type": "markdown",
      "source": [
        "## **Practice Problem 2: Modify Exam Scores**\n",
        "\n",
        "You are given a list of scores for students:\n",
        "\n",
        "```scores = [45, 60, 55, 70, 85]```\n",
        "\n",
        "Task:\n",
        "\n",
        "- Increase the score of the first student by 10.\n",
        "- Replace the score of the 3rd student with 65.\n",
        "- Remove the score of the last student."
      ],
      "metadata": {
        "id": "q_dcKB3ampYF"
      }
    },
    {
      "cell_type": "code",
      "source": [
        "scores = [45, 60, 55, 70, 85]\n",
        "\n",
        "# Increase the score of the first student by 10\n",
        "scores[0] += 10\n",
        "\n",
        "# Replace the score of the 3rd student with 65\n",
        "scores[2] = 65\n",
        "\n",
        "# Remove the score of the last student\n",
        "scores.pop()\n",
        "\n",
        "print(\"Updated Scores:\", scores)"
      ],
      "metadata": {
        "id": "8e1vAmqIDDyF",
        "colab": {
          "base_uri": "https://localhost:8080/"
        },
        "outputId": "82b77063-2e1d-44fc-da9c-ed455f496ee2"
      },
      "execution_count": null,
      "outputs": [
        {
          "output_type": "stream",
          "name": "stdout",
          "text": [
            "Updated Scores: [55, 60, 65, 70]\n"
          ]
        }
      ]
    },
    {
      "cell_type": "markdown",
      "source": [
        "## **Practice Problem 3: Rearrange Names Alphabetically**\n",
        "\n",
        "You are given a list of student names:\n",
        "\n",
        "```students = [\"Rohan\", \"Aarav\", \"Priya\", \"Ananya\", \"Rahul\"]```\n",
        "\n",
        "Task:\n",
        "\n",
        "- Sort the names alphabetically.\n",
        "- Reverse the order of the sorted list."
      ],
      "metadata": {
        "id": "elPJbPsdm0Q9"
      }
    },
    {
      "cell_type": "code",
      "source": [
        "students = [\"Rohan\", \"Aarav\", \"Priya\", \"Ananya\", \"Rahul\"]\n",
        "\n",
        "# Sort alphabetically\n",
        "students.sort()\n",
        "\n",
        "# Reverse the sorted list\n",
        "students.reverse()\n",
        "\n",
        "print(\"Reversed Sorted Names:\", students)"
      ],
      "metadata": {
        "colab": {
          "base_uri": "https://localhost:8080/"
        },
        "id": "NzKNlRf7nK1n",
        "outputId": "da046117-9314-4edf-c830-f0783251ec92"
      },
      "execution_count": null,
      "outputs": [
        {
          "output_type": "stream",
          "name": "stdout",
          "text": [
            "Reversed Sorted Names: ['Rohan', 'Rahul', 'Priya', 'Ananya', 'Aarav']\n"
          ]
        }
      ]
    },
    {
      "cell_type": "markdown",
      "source": [
        "## **Practice Problem 4: Combine and Update Shopping Lists**\n",
        "\n",
        "You are given two shopping lists:\n",
        "\n",
        "    list1 = [\"Rice\", \"Wheat\", \"Sugar\"]\n",
        "\n",
        "    list2 = [\"Milk\", \"Butter\"]\n",
        "\n",
        "Task:\n",
        "\n",
        "- Combine the two lists into one.\n",
        "- Replace \"Sugar\" with \"Honey\".\n",
        "- Add \"Salt\" to the end of the list."
      ],
      "metadata": {
        "id": "HC0HhzEvnNVF"
      }
    },
    {
      "cell_type": "code",
      "source": [
        "list1 = [\"Rice\", \"Wheat\", \"Sugar\"]\n",
        "list2 = [\"Milk\", \"Butter\"]\n",
        "\n",
        "# Combine the two lists\n",
        "shopping_list = list1 + list2\n",
        "\n",
        "# Replace \"Sugar\" with \"Honey\"\n",
        "index_sugar = shopping_list.index(\"Sugar\")\n",
        "shopping_list[index_sugar] = \"Honey\"\n",
        "\n",
        "# Add \"Salt\" to the end\n",
        "shopping_list.append(\"Salt\")\n",
        "\n",
        "print(\"Updated Shopping List:\", shopping_list)"
      ],
      "metadata": {
        "id": "XAkYF1yBDyfP",
        "colab": {
          "base_uri": "https://localhost:8080/"
        },
        "outputId": "d85beacb-bb81-4fad-bf19-338798712763"
      },
      "execution_count": null,
      "outputs": [
        {
          "output_type": "stream",
          "name": "stdout",
          "text": [
            "Updated Shopping List: ['Rice', 'Wheat', 'Honey', 'Milk', 'Butter', 'Salt']\n"
          ]
        }
      ]
    },
    {
      "cell_type": "markdown",
      "source": [
        "## **Practice Problem 5: Filter and Update Population Data**\n",
        "\n",
        "You are given a list of populations of cities in millions:\n",
        "\n",
        "      populations = [32, 20, 15, 10, 12, 8]\n",
        "\n",
        "Task:\n",
        "\n",
        "- Remove populations less than 10 million.\n",
        "- Add 2 million to each remaining population."
      ],
      "metadata": {
        "id": "HJWWj2YrnwSW"
      }
    },
    {
      "cell_type": "code",
      "source": [
        "populations = [32, 20, 15, 10, 12, 8]\n",
        "\n",
        "# Remove populations less than 10 million\n",
        "populations = [pop for pop in populations if pop >= 10]\n",
        "\n",
        "# Add 2 million to each population\n",
        "populations = [pop + 2 for pop in populations]\n",
        "\n",
        "print(\"Updated Populations:\", populations)"
      ],
      "metadata": {
        "colab": {
          "base_uri": "https://localhost:8080/"
        },
        "id": "tfxCZcbmn4jG",
        "outputId": "82eeb499-6b1a-4204-d753-4790667f90be"
      },
      "execution_count": null,
      "outputs": [
        {
          "output_type": "stream",
          "name": "stdout",
          "text": [
            "Updated Populations: [34, 22, 17, 12, 14]\n"
          ]
        }
      ]
    },
    {
      "cell_type": "markdown",
      "source": [
        "# **🐌Exercise**"
      ],
      "metadata": {
        "id": "urR0OpduRBEZ"
      }
    },
    {
      "cell_type": "markdown",
      "source": [
        "## **Exercise 1:  Travel Itinerary**\n",
        "\n",
        "You have a list travel_destinations with the following cities: [\"Delhi\", \"Ayodha\", \"Kashi\", \"Mathura\"].\n",
        "\n",
        "- You've decided to visit \"Somnath\" instead of \"Delhi\". Update the list accordingly.\n",
        "\n",
        "- You've added \"Somnath\" to your itinerary after \"Mathura\". Modify the list."
      ],
      "metadata": {
        "id": "4pqEkcCIkii-"
      }
    },
    {
      "cell_type": "code",
      "source": [
        "# Your answer\n"
      ],
      "metadata": {
        "id": "ge6t4zLrRHRc"
      },
      "execution_count": null,
      "outputs": []
    },
    {
      "cell_type": "markdown",
      "source": [
        "## **Exercise 2:  Favorite Foods**\n",
        "\n",
        "Create a list favorite_foods with at least 5 of your favorite dishes.\n",
        "\n",
        "- You've developed a new love for \"Biryani\". Add it to the end of your list.\n",
        "- You've realized you don't like \"Pizza\" anymore. Remove it from your list.\n",
        "- You now prefer \"Dosa\" over the second item in your list. Replace the second item with \"Dosa\"."
      ],
      "metadata": {
        "id": "BQaYzCLflHTn"
      }
    },
    {
      "cell_type": "code",
      "source": [
        "# Your answer\n"
      ],
      "metadata": {
        "id": "4foLKuZVRHU_"
      },
      "execution_count": null,
      "outputs": []
    },
    {
      "cell_type": "markdown",
      "source": [
        "## **Exercise 3:  Bollywood Movie Marathon**\n",
        "\n",
        "You have a list bollywood_movies with 4 Bollywood movie titles.\n",
        "\n",
        "- Add the movie \"Dilwale Dulhania Le Jayenge\" to the beginning of the list.\n",
        "- Remove the third movie from the list.\n",
        "- Replace the last movie in the list with \"Uri\"."
      ],
      "metadata": {
        "id": "tjROLhx-lZse"
      }
    },
    {
      "cell_type": "code",
      "source": [
        "# Your answer\n"
      ],
      "metadata": {
        "id": "jQ6OW5W7RHZb"
      },
      "execution_count": null,
      "outputs": []
    },
    {
      "cell_type": "markdown",
      "source": [
        "## **Exercise 4:  Festivals**\n",
        "\n",
        "Create a list festivals with the names of 4 Indian festivals.\n",
        "\n",
        "- Insert \"Holi\" at the second position in the list.\n",
        "- You forgot to add \" Diwali\"! Add it to the end.\n",
        "- Remove the first festival from the list."
      ],
      "metadata": {
        "id": "sEjs3SNjlugp"
      }
    },
    {
      "cell_type": "code",
      "source": [
        "# Your answer\n"
      ],
      "metadata": {
        "id": "jlJ7zYECl8UZ"
      },
      "execution_count": null,
      "outputs": []
    },
    {
      "cell_type": "markdown",
      "source": [
        "## **Exercise 5:  Programming Languages**\n",
        "\n",
        "You have a list languages with the programming languages you know: [\"Python\", \"Java\"].\n",
        "\n",
        "- Add \"C++\" to the list.\n",
        "- Replace \"Java\" with \"JavaScript\".\n",
        "- Remove the first language from the list."
      ],
      "metadata": {
        "id": "nQt3oJv0l93k"
      }
    },
    {
      "cell_type": "code",
      "source": [
        "# Your answer\n"
      ],
      "metadata": {
        "id": "gsg9sexDmILl"
      },
      "execution_count": null,
      "outputs": []
    },
    {
      "cell_type": "markdown",
      "source": [
        "---"
      ],
      "metadata": {
        "id": "wtFxOdTW8OCk"
      }
    },
    {
      "cell_type": "markdown",
      "source": [
        "#🔗[Have a Doubt? Join Our Live Doubt Class for Help](https://www.ybifoundation.org/session/live-doubt-resolution-session)\n",
        "https://bit.ly/doubt-support"
      ],
      "metadata": {
        "id": "YV9BVXPWBkYu"
      }
    }
  ]
}