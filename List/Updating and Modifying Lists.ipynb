{
 "cells": [
  {
   "cell_type": "code",
   "execution_count": 7,
   "id": "9ca0ef0c-601c-4c62-a9fa-2b1a7831d0d5",
   "metadata": {},
   "outputs": [
    {
     "data": {
      "text/plain": [
       "['Mumbai', 'Delhi', 'Bangalore']"
      ]
     },
     "execution_count": 7,
     "metadata": {},
     "output_type": "execute_result"
    }
   ],
   "source": [
    "# Create list\n",
    "cities = [\"Mumbai\", \"Delhi\", \"Bangalore\"]"
   ]
  },
  {
   "cell_type": "code",
   "execution_count": 9,
   "id": "14004376-ea41-490f-a906-d2beb2dab448",
   "metadata": {},
   "outputs": [
    {
     "data": {
      "text/plain": [
       "'Kolkata'"
      ]
     },
     "execution_count": 9,
     "metadata": {},
     "output_type": "execute_result"
    }
   ],
   "source": [
    "# Changing the second element\n",
    "cities[1] = \"Kolkata\"  # cities is now [\"Mumbai\", \"Kolkata\", \"Bangalore\"]"
   ]
  },
  {
   "cell_type": "code",
   "execution_count": 5,
   "id": "552f419e-f30c-4e02-8cc4-00e58aed88b4",
   "metadata": {},
   "outputs": [],
   "source": [
    "# Adding an element to the end\n",
    "cities.append(\"Chennai\")  # cities is now [\"Mumbai\", \"Kolkata\", \"Bangalore\", \"Chennai\"]"
   ]
  },
  {
   "cell_type": "code",
   "execution_count": 11,
   "id": "1d04820e-d23f-49d6-8fd0-8c6f7504728c",
   "metadata": {},
   "outputs": [],
   "source": [
    "# Inserting an element at a specific index\n",
    "cities.insert(1, \"Hyderabad\")  # cities is now [\"Mumbai\", \"Hyderabad\", \"Kolkata\", \"Bangalore\", \"Chennai\"]"
   ]
  },
  {
   "cell_type": "code",
   "execution_count": 13,
   "id": "964d6141-357c-41a5-a017-35829dac873b",
   "metadata": {},
   "outputs": [],
   "source": [
    "# Removing an element by value\n",
    "cities.remove(\"Kolkata\")  # cities is now [\"Mumbai\", \"Hyderabad\", \"Bangalore\", \"Chennai\"]"
   ]
  },
  {
   "cell_type": "code",
   "execution_count": 15,
   "id": "7d6776e7-b4a4-4904-8c98-bed9a90fa4f2",
   "metadata": {},
   "outputs": [
    {
     "data": {
      "text/plain": [
       "'Bangalore'"
      ]
     },
     "execution_count": 15,
     "metadata": {},
     "output_type": "execute_result"
    }
   ],
   "source": [
    "# Removing an element by index\n",
    "cities.pop(2)  # cities is now [\"Mumbai\", \"Hyderabad\", \"Chennai\"]"
   ]
  },
  {
   "cell_type": "code",
   "execution_count": null,
   "id": "dee59831-f14b-4af0-9b73-02df5fa26471",
   "metadata": {},
   "outputs": [],
   "source": []
  }
 ],
 "metadata": {
  "kernelspec": {
   "display_name": "Python [conda env:base] *",
   "language": "python",
   "name": "conda-base-py"
  },
  "language_info": {
   "codemirror_mode": {
    "name": "ipython",
    "version": 3
   },
   "file_extension": ".py",
   "mimetype": "text/x-python",
   "name": "python",
   "nbconvert_exporter": "python",
   "pygments_lexer": "ipython3",
   "version": "3.12.7"
  }
 },
 "nbformat": 4,
 "nbformat_minor": 5
}
