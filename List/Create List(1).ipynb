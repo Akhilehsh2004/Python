{
 "cells": [
  {
   "cell_type": "markdown",
   "id": "cd37f019-8e71-4504-98f9-f6edc7952e3a",
   "metadata": {},
   "source": [
    "## Create List"
   ]
  },
  {
   "cell_type": "code",
   "execution_count": 4,
   "id": "f44e992d-8a64-4265-ac9c-6c792680bd45",
   "metadata": {},
   "outputs": [
    {
     "data": {
      "text/plain": [
       "['Akhilesh Pant', 'Aarav', 'Mohit Sharma']"
      ]
     },
     "execution_count": 4,
     "metadata": {},
     "output_type": "execute_result"
    }
   ],
   "source": [
    "names = [\"Akhilesh Pant\", \"Aarav\", \"Mohit Sharma\"]\n",
    "names"
   ]
  },
  {
   "cell_type": "markdown",
   "id": "e1b5085a-48b9-4105-8a2a-7b71a42f5d32",
   "metadata": {},
   "source": [
    "## Using the list() Constructor"
   ]
  },
  {
   "cell_type": "code",
   "execution_count": 7,
   "id": "5f61c439-2a7a-44ed-a8a1-7a0537dbd7a1",
   "metadata": {},
   "outputs": [
    {
     "data": {
      "text/plain": [
       "['Akhilesh Pant', 'Aarav', 'Mohit Sharma']"
      ]
     },
     "execution_count": 7,
     "metadata": {},
     "output_type": "execute_result"
    }
   ],
   "source": [
    "names =list([\"Akhilesh Pant\", \"Aarav\", \"Mohit Sharma\"])\n",
    "names"
   ]
  },
  {
   "cell_type": "markdown",
   "id": "bd1ed828-6c86-4aa0-a37e-d4f200adc70d",
   "metadata": {},
   "source": [
    "## Coverting A String To A List Of Characters"
   ]
  },
  {
   "cell_type": "code",
   "execution_count": 11,
   "id": "89d3e7fe-9b18-49b6-b28d-6cf1e0719cd0",
   "metadata": {},
   "outputs": [
    {
     "data": {
      "text/plain": [
       "['A', 'k', 'h', 'i', 'l', 'e', 's', 'h', ' ', 'P', 'a', 'n', 't']"
      ]
     },
     "execution_count": 11,
     "metadata": {},
     "output_type": "execute_result"
    }
   ],
   "source": [
    "string_data = 'Akhilesh Pant'\n",
    "list_from_string = list(string_data)\n",
    "list_from_string"
   ]
  },
  {
   "cell_type": "markdown",
   "id": "b9259746-12bd-4c83-aece-4d07eeb42930",
   "metadata": {},
   "source": [
    "## Using List Comprehension"
   ]
  },
  {
   "cell_type": "markdown",
   "id": "ca008220-49eb-4b8d-8ef6-a7101c367cc5",
   "metadata": {},
   "source": [
    "### Creating A List Of Squares"
   ]
  },
  {
   "cell_type": "code",
   "execution_count": 15,
   "id": "cb3c0f4d-b1c1-4869-ab63-4986665f7307",
   "metadata": {},
   "outputs": [
    {
     "data": {
      "text/plain": [
       "[0, 1, 4, 9, 16]"
      ]
     },
     "execution_count": 15,
     "metadata": {},
     "output_type": "execute_result"
    }
   ],
   "source": [
    "squares = [x**2 for x in range (5)]\n",
    "squares"
   ]
  },
  {
   "cell_type": "markdown",
   "id": "6a4b34b4-3963-470c-84a5-975a8eb777fd",
   "metadata": {},
   "source": [
    "### Creating A List With A Conditions"
   ]
  },
  {
   "cell_type": "code",
   "execution_count": 18,
   "id": "4bed7b75-d12b-456f-bf78-83da0c008f9a",
   "metadata": {},
   "outputs": [
    {
     "data": {
      "text/plain": [
       "[0, 2, 4, 6, 8]"
      ]
     },
     "execution_count": 18,
     "metadata": {},
     "output_type": "execute_result"
    }
   ],
   "source": [
    "even_numbers = [x for x in range (10) if x % 2 == 0]\n",
    "even_numbers"
   ]
  },
  {
   "cell_type": "code",
   "execution_count": 22,
   "id": "9c99ff50-b833-40fc-bdcb-78a590743956",
   "metadata": {},
   "outputs": [
    {
     "data": {
      "text/plain": [
       "[0, 2, 4, 6, 8]"
      ]
     },
     "execution_count": 22,
     "metadata": {},
     "output_type": "execute_result"
    }
   ],
   "source": [
    "even_numbers = [x for x in range (10) if x % 2 == 0]\n",
    "even_numbers"
   ]
  },
  {
   "cell_type": "markdown",
   "id": "d572fffa-7a14-41ae-a362-d68e9a7dfad3",
   "metadata": {},
   "source": [
    "## Using * Operator For Repetition"
   ]
  },
  {
   "cell_type": "markdown",
   "id": "dc0a5ee4-63df-4f46-98e1-21b2b6da787d",
   "metadata": {},
   "source": [
    "### Repeting The Element 0 Five Times"
   ]
  },
  {
   "cell_type": "code",
   "execution_count": 26,
   "id": "f93dc39f-f1e3-4f8d-9f96-5611b5c6b3d8",
   "metadata": {},
   "outputs": [
    {
     "data": {
      "text/plain": [
       "[0, 0, 0, 0, 0]"
      ]
     },
     "execution_count": 26,
     "metadata": {},
     "output_type": "execute_result"
    }
   ],
   "source": [
    "zeros = [0] * 5\n",
    "zeros"
   ]
  },
  {
   "cell_type": "markdown",
   "id": "717ddacb-c00f-4142-b4b3-ea5ac2db2290",
   "metadata": {},
   "source": [
    "### Creating A List Of Default Values"
   ]
  },
  {
   "cell_type": "code",
   "execution_count": 29,
   "id": "af6705f4-a515-40de-80a2-f65bedb4f469",
   "metadata": {},
   "outputs": [
    {
     "data": {
      "text/plain": [
       "['Akhilesh', 'Akhilesh', 'Akhilesh']"
      ]
     },
     "execution_count": 29,
     "metadata": {},
     "output_type": "execute_result"
    }
   ],
   "source": [
    "repeat = ['Akhilesh']*3\n",
    "repeat"
   ]
  },
  {
   "cell_type": "markdown",
   "id": "66c7904e-50b4-4f43-b566-b94a992f73b2",
   "metadata": {},
   "source": [
    "## Using The range() Function\n",
    "\n",
    "The range() function generates a sequence of numbers, which can be converted into a list"
   ]
  },
  {
   "cell_type": "markdown",
   "id": "951f0c8e-582f-44bf-b932-be249bba9ccf",
   "metadata": {},
   "source": [
    "## List Of Numbers From 0 To 9"
   ]
  },
  {
   "cell_type": "code",
   "execution_count": 37,
   "id": "9082b234-6917-430a-bf46-ae6eceff3f21",
   "metadata": {},
   "outputs": [
    {
     "data": {
      "text/plain": [
       "[0, 1, 2, 3, 4, 5, 6, 7, 8, 9]"
      ]
     },
     "execution_count": 37,
     "metadata": {},
     "output_type": "execute_result"
    }
   ],
   "source": [
    "numbers = list(range(10))\n",
    "numbers"
   ]
  },
  {
   "cell_type": "markdown",
   "id": "d3c4c1d4-0c7c-45c4-920a-cf50d477c031",
   "metadata": {},
   "source": [
    "### List Of Even Numbers"
   ]
  },
  {
   "cell_type": "code",
   "execution_count": 40,
   "id": "d8d0432e-589b-475b-a584-651cf1c3b793",
   "metadata": {},
   "outputs": [
    {
     "data": {
      "text/plain": [
       "[0, 2, 4, 6, 8]"
      ]
     },
     "execution_count": 40,
     "metadata": {},
     "output_type": "execute_result"
    }
   ],
   "source": [
    "even_numbers = list(range(0, 10, 2))\n",
    "even_numbers"
   ]
  },
  {
   "cell_type": "markdown",
   "id": "5b11a24b-da6a-4805-b5b4-bc12937e9838",
   "metadata": {},
   "source": [
    "### List Of Even Numbers\n"
   ]
  },
  {
   "cell_type": "code",
   "execution_count": 43,
   "id": "9afe6fac-2487-488b-8ef0-ecb6c39f4725",
   "metadata": {},
   "outputs": [
    {
     "data": {
      "text/plain": [
       "[1, 3, 5, 7, 9]"
      ]
     },
     "execution_count": 43,
     "metadata": {},
     "output_type": "execute_result"
    }
   ],
   "source": [
    "odd_numbers = list(range(1, 10, 2))\n",
    "odd_numbers"
   ]
  },
  {
   "cell_type": "markdown",
   "id": "a648b604-33a3-4deb-92c9-660370544401",
   "metadata": {},
   "source": [
    "## Using Unpacking With * Operator\n",
    "\n",
    "The unpacking operator * can be used to create lists by expanding iterable"
   ]
  },
  {
   "cell_type": "code",
   "execution_count": 49,
   "id": "ba80182e-07d2-497b-8107-aeb57339dde2",
   "metadata": {},
   "outputs": [
    {
     "data": {
      "text/plain": [
       "[0, 1, 2, 3, 4]"
      ]
     },
     "execution_count": 49,
     "metadata": {},
     "output_type": "execute_result"
    }
   ],
   "source": [
    "# Expanding A Range Into A List\n",
    "numbers = [*range(5)]\n",
    "numbers"
   ]
  },
  {
   "cell_type": "code",
   "execution_count": 51,
   "id": "e22d2983-be32-4f21-854b-92e87ffbd3ea",
   "metadata": {},
   "outputs": [
    {
     "data": {
      "text/plain": [
       "[1, 2, 3, 4]"
      ]
     },
     "execution_count": 51,
     "metadata": {},
     "output_type": "execute_result"
    }
   ],
   "source": [
    "# Combining Two Lists With Unpacking\n",
    "list1 = [1, 2]\n",
    "list2 = [3, 4]\n",
    "\n",
    "combined = [*list1, *list2]\n",
    "combined"
   ]
  }
 ],
 "metadata": {
  "kernelspec": {
   "display_name": "Python [conda env:base] *",
   "language": "python",
   "name": "conda-base-py"
  },
  "language_info": {
   "codemirror_mode": {
    "name": "ipython",
    "version": 3
   },
   "file_extension": ".py",
   "mimetype": "text/x-python",
   "name": "python",
   "nbconvert_exporter": "python",
   "pygments_lexer": "ipython3",
   "version": "3.12.7"
  }
 },
 "nbformat": 4,
 "nbformat_minor": 5
}
