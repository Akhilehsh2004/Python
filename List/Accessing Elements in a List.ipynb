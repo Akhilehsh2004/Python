{
 "cells": [
  {
   "cell_type": "code",
   "execution_count": 1,
   "id": "fc8025c7-148d-4b30-8cf3-7dbea76c51f6",
   "metadata": {},
   "outputs": [
    {
     "data": {
      "text/plain": [
       "['red', 'green', 'blue', 'yellow']"
      ]
     },
     "execution_count": 1,
     "metadata": {},
     "output_type": "execute_result"
    }
   ],
   "source": [
    "# Create list\n",
    "colors = [\"red\", \"green\", \"blue\", \"yellow\"]\n",
    "colors"
   ]
  },
  {
   "cell_type": "code",
   "execution_count": 3,
   "id": "603ac188-8409-4628-bd43-39d7ebf633cb",
   "metadata": {},
   "outputs": [
    {
     "data": {
      "text/plain": [
       "'red'"
      ]
     },
     "execution_count": 3,
     "metadata": {},
     "output_type": "execute_result"
    }
   ],
   "source": [
    "# Accessing the first element\n",
    "first_color = colors[0]  # first_color will be \"red\"\n",
    "first_color"
   ]
  },
  {
   "cell_type": "code",
   "execution_count": 5,
   "id": "15ce893c-8d05-4916-b491-ade8e0daf6ae",
   "metadata": {},
   "outputs": [
    {
     "data": {
      "text/plain": [
       "'blue'"
      ]
     },
     "execution_count": 5,
     "metadata": {},
     "output_type": "execute_result"
    }
   ],
   "source": [
    "# Accessing the third element\n",
    "third_color = colors[2]  # third_color will be \"blue\"\n",
    "third_color"
   ]
  },
  {
   "cell_type": "code",
   "execution_count": 7,
   "id": "c92066ef-4c0c-40e2-9662-8ddec099068b",
   "metadata": {},
   "outputs": [
    {
     "data": {
      "text/plain": [
       "'yellow'"
      ]
     },
     "execution_count": 7,
     "metadata": {},
     "output_type": "execute_result"
    }
   ],
   "source": [
    "# Accessing the last element using negative indexing\n",
    "last_color = colors[-1]  # last_color will be \"yellow\"\n",
    "last_color"
   ]
  },
  {
   "cell_type": "code",
   "execution_count": 11,
   "id": "bda6ef2e-9112-457e-85e1-c3ee5f14756c",
   "metadata": {},
   "outputs": [
    {
     "name": "stdout",
     "output_type": "stream",
     "text": [
      "First City: Delhi\n",
      "Last City: Bangalore\n",
      "Third City: Chennai\n"
     ]
    }
   ],
   "source": [
    "indian_cities = [\"Delhi\", \"Mumbai\", \"Chennai\", \"Kolkata\", \"Bangalore\"]\n",
    "\n",
    "# 1. First city\n",
    "print(\"First City:\", indian_cities[0])  # Output: Delhi\n",
    "\n",
    "# 2. Last city using negative indexing\n",
    "print(\"Last City:\", indian_cities[-1])  # Output: Bangalore\n",
    "\n",
    "# 3. Third city\n",
    "print(\"Third City:\", indian_cities[2])  # Output: Chennai\n"
   ]
  },
  {
   "cell_type": "code",
   "execution_count": 14,
   "id": "bd7df304-b51d-4494-b874-ecf4914c05de",
   "metadata": {},
   "outputs": [
    {
     "name": "stdout",
     "output_type": "stream",
     "text": [
      "First Three Festivals: ['Diwali', 'Holi', 'Ganesh Chaturthi']\n",
      "Last Two Festivals: ['Ganesh Chaturthi', 'Navratri']\n",
      "Festivals (2nd to 4th): ['Holi', 'Ganesh Chaturthi', 'Navratri']\n"
     ]
    }
   ],
   "source": [
    "indian_festivals = [\"Diwali\", \"Holi\", \"Ganesh Chaturthi\", \"Navratri\"]\n",
    "\n",
    "# 1. First three festivals\n",
    "print(\"First Three Festivals:\", indian_festivals[:3])\n",
    "\n",
    "\n",
    "# 2. Last two festivals using negative slicing\n",
    "print(\"Last Two Festivals:\", indian_festivals[-2:])\n",
    "\n",
    "\n",
    "# 3. Festivals from second to fourth\n",
    "print(\"Festivals (2nd to 4th):\", indian_festivals[1:5])\n",
    "\n",
    "states_and_capitals = [\n",
    "    [\"Delhi\", \"New Delhi\"],\n",
    "    [\"Maharashtra\", \"Mumbai\"],\n",
    "    [\"Tamil Nadu\", \"Chennai\"],\n",
    "    [\"West Bengal\", \"Kolkata\"],\n",
    "    [\"Karnataka\", \"Bangalore\"]\n",
    "]\n",
    "\n",
    "# 1. Capital of Maharashtra\n",
    "print(\"Capital of Maharashtra:\", states_and_capitals[1][1])\n",
    "\n",
    "# 2. State corresponding to Bangalore\n",
    "print(\"State of Bangalore:\", states_and_capitals[4][0])\n",
    "\n",
    "# 3. List of Tamil Nadu and its capital\n",
    "print(\"Tamil Nadu and its capital:\", states_and_capitals[2])\n"
   ]
  },
  {
   "cell_type": "code",
   "execution_count": 17,
   "id": "6fafaa69-c48e-4e59-b53c-4d59d21e8138",
   "metadata": {},
   "outputs": [
    {
     "name": "stdout",
     "output_type": "stream",
     "text": [
      "List of Cricketers:\n",
      "Sachin Tendulkar\n",
      "Virat Kohli\n",
      "MS Dhoni\n",
      "Rohit Sharma\n",
      "Kapil Dev\n",
      "\n",
      "Indexed List of Cricketers:\n",
      "0 - Sachin Tendulkar\n",
      "1 - Virat Kohli\n",
      "2 - MS Dhoni\n",
      "3 - Rohit Sharma\n",
      "4 - Kapil Dev\n"
     ]
    }
   ],
   "source": [
    "cricketers = [\"Sachin Tendulkar\", \"Virat Kohli\", \"MS Dhoni\", \"Rohit Sharma\", \"Kapil Dev\"]\n",
    "\n",
    "# 1. Loop to print each cricketer\n",
    "print(\"List of Cricketers:\")\n",
    "for player in cricketers:\n",
    "    print(player)\n",
    "\n",
    "\n",
    "# 2. Loop to print index and name\n",
    "print(\"\\nIndexed List of Cricketers:\")\n",
    "for index, player in enumerate(cricketers):\n",
    "    print(f\"{index} - {player}\")\n",
    "indian_dishes = [\"Biryani\", \"Dosa\", \"Chole Bhature\", \"Gol Gapa\", \"Pav Bhaji\", \"Idli\"]\n",
    "\n",
    "# 1. Dishes starting with 'B'\n",
    "b_dishes = [dish for dish in indian_dishes if dish.startswith(\"B\")]\n",
    "print(\"Dishes starting with 'B':\", b_dishes)\n",
    "\n",
    "# 2. Dishes with names longer than 8 characters\n",
    "long_dishes = [dish for dish in indian_dishes if len(dish) > 8]\n",
    "print(\"Dishes with more than 8 characters:\", long_dishes)\n"
   ]
  },
  {
   "cell_type": "code",
   "execution_count": null,
   "id": "e3e3caf4-6f8f-4b7a-9353-cd100f29af1f",
   "metadata": {},
   "outputs": [],
   "source": []
  },
  {
   "cell_type": "code",
   "execution_count": null,
   "id": "4b05b6cc-6e36-4754-88cf-58ab4e2473ac",
   "metadata": {},
   "outputs": [],
   "source": []
  }
 ],
 "metadata": {
  "kernelspec": {
   "display_name": "Python [conda env:base] *",
   "language": "python",
   "name": "conda-base-py"
  },
  "language_info": {
   "codemirror_mode": {
    "name": "ipython",
    "version": 3
   },
   "file_extension": ".py",
   "mimetype": "text/x-python",
   "name": "python",
   "nbconvert_exporter": "python",
   "pygments_lexer": "ipython3",
   "version": "3.12.7"
  }
 },
 "nbformat": 4,
 "nbformat_minor": 5
}
